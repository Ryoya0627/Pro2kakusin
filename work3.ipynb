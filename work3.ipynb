{
  "nbformat": 4,
  "nbformat_minor": 0,
  "metadata": {
    "colab": {
      "provenance": [],
      "include_colab_link": true
    },
    "kernelspec": {
      "name": "python3",
      "display_name": "Python 3"
    },
    "language_info": {
      "name": "python"
    }
  },
  "cells": [
    {
      "cell_type": "markdown",
      "metadata": {
        "id": "view-in-github",
        "colab_type": "text"
      },
      "source": [
        "<a href=\"https://colab.research.google.com/github/Ryoya0627/Pro2kakusin/blob/main/work3.ipynb\" target=\"_parent\"><img src=\"https://colab.research.google.com/assets/colab-badge.svg\" alt=\"Open In Colab\"/></a>"
      ]
    },
    {
      "cell_type": "markdown",
      "source": [
        "***work3***\n",
        "\n",
        "題名\n",
        "\n",
        "説明\n",
        "\n",
        "画像を用いたプログラミング"
      ],
      "metadata": {
        "id": "4dzSYRjODB-5"
      }
    },
    {
      "cell_type": "code",
      "source": [
        "https://drive.google.com/file/d/1zTVUoGvLN4ole1NrsS8eA3vUhcK86jgg/view?usp=drive_link"
      ],
      "metadata": {
        "id": "GndgLd2U-mmp"
      },
      "execution_count": null,
      "outputs": []
    },
    {
      "cell_type": "code",
      "execution_count": 26,
      "metadata": {
        "id": "p-a60sIa-O4X",
        "colab": {
          "base_uri": "https://localhost:8080/"
        },
        "outputId": "3878e43b-2bb0-4481-de08-f69e3da528a6"
      },
      "outputs": [
        {
          "output_type": "stream",
          "name": "stdout",
          "text": [
            "--2024-01-16 06:36:42--  https://drive.google.com/uc?export=download&id=1zTVUoGvLN4ole1NrsS8eA3vUhcK86jgg\n",
            "Resolving drive.google.com (drive.google.com)... 64.233.188.113, 64.233.188.138, 64.233.188.100, ...\n",
            "Connecting to drive.google.com (drive.google.com)|64.233.188.113|:443... connected.\n",
            "HTTP request sent, awaiting response... 303 See Other\n",
            "Location: https://drive.usercontent.google.com/download?id=1zTVUoGvLN4ole1NrsS8eA3vUhcK86jgg&export=download [following]\n",
            "--2024-01-16 06:36:42--  https://drive.usercontent.google.com/download?id=1zTVUoGvLN4ole1NrsS8eA3vUhcK86jgg&export=download\n",
            "Resolving drive.usercontent.google.com (drive.usercontent.google.com)... 142.251.170.132, 2404:6800:4008:c19::84\n",
            "Connecting to drive.usercontent.google.com (drive.usercontent.google.com)|142.251.170.132|:443... connected.\n",
            "HTTP request sent, awaiting response... 200 OK\n",
            "Length: 400823 (391K) [application/octet-stream]\n",
            "Saving to: ‘images.zip’\n",
            "\n",
            "images.zip          100%[===================>] 391.43K  --.-KB/s    in 0.004s  \n",
            "\n",
            "2024-01-16 06:36:43 (95.7 MB/s) - ‘images.zip’ saved [400823/400823]\n",
            "\n",
            "Archive:  images.zip\n",
            "  inflating: РVВ╡ВвГtГHГЛГ_Б[/sakura.jpg  \n",
            "  inflating: РVВ╡ВвГtГHГЛГ_Б[/sakura2.jpg  \n"
          ]
        }
      ],
      "source": [
        "!wget \"https://drive.google.com/uc?export=download&id=1zTVUoGvLN4ole1NrsS8eA3vUhcK86jgg\" -O images.zip\n",
        "!unzip -o images.zip"
      ]
    },
    {
      "cell_type": "code",
      "source": [
        "import numpy as np\n",
        "import cv2, sys\n",
        "from google.colab.patches import cv2_imshow\n",
        "a=input('何の写真を使いますか:')\n",
        "b=input('どの写真を使いますか:')\n",
        "img1=cv2.imread(a+'.jpg')\n",
        "img2=cv2.imread(b+'.jpg')\n",
        "if img1 is None:\n",
        "  sys.exit(f'エラー：ファイルを開けませんでした{a}')\n",
        "if img2 is None:\n",
        "  sys.exit(f'エラー：ファイルを開けませんでした{b}')\n",
        "\n",
        "h1=img1.shape[0]\n",
        "w1=img1.shape[1]\n",
        "h2=img2.shape[0]\n",
        "w2=img2.shape[1]\n",
        "img1=cv2.resize(img1,(int(w1/w1*100),int(h1/h1*100)))\n",
        "img2=cv2.resize(img2,(int(w2/w2*100),int(h2/h2*100)))\n",
        "count=0\n",
        "for x in range(100):\n",
        "  for y in range(100):\n",
        "     if np.all(img1[y,x]==img2[y,x]):\n",
        "      count+=1\n",
        "c=count/100\n",
        "cv2_imshow(img1)\n",
        "cv2_imshow(img2)\n",
        "print(str(c)+'%')"
      ],
      "metadata": {
        "id": "EOswIZfZDP_y",
        "colab": {
          "base_uri": "https://localhost:8080/",
          "height": 201
        },
        "outputId": "3dca6784-8da0-4aaa-a9f5-f04fb176f597"
      },
      "execution_count": 27,
      "outputs": [
        {
          "name": "stdout",
          "output_type": "stream",
          "text": [
            "何の写真を使いますか:sakura\n",
            "どの写真を使いますか:sakura1\n"
          ]
        },
        {
          "output_type": "error",
          "ename": "SystemExit",
          "evalue": "エラー：ファイルを開けませんでしたsakura",
          "traceback": [
            "An exception has occurred, use %tb to see the full traceback.\n",
            "\u001b[0;31mSystemExit\u001b[0m\u001b[0;31m:\u001b[0m エラー：ファイルを開けませんでしたsakura\n"
          ]
        },
        {
          "output_type": "stream",
          "name": "stderr",
          "text": [
            "/usr/local/lib/python3.10/dist-packages/IPython/core/interactiveshell.py:3561: UserWarning: To exit: use 'exit', 'quit', or Ctrl-D.\n",
            "  warn(\"To exit: use 'exit', 'quit', or Ctrl-D.\", stacklevel=1)\n"
          ]
        }
      ]
    }
  ]
}