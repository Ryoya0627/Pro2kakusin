{
  "nbformat": 4,
  "nbformat_minor": 0,
  "metadata": {
    "colab": {
      "provenance": [],
      "include_colab_link": true
    },
    "kernelspec": {
      "name": "python3",
      "display_name": "Python 3"
    },
    "language_info": {
      "name": "python"
    }
  },
  "cells": [
    {
      "cell_type": "markdown",
      "metadata": {
        "id": "view-in-github",
        "colab_type": "text"
      },
      "source": [
        "<a href=\"https://colab.research.google.com/github/Ryoya0627/Pro2kakusin/blob/main/work3.ipynb\" target=\"_parent\"><img src=\"https://colab.research.google.com/assets/colab-badge.svg\" alt=\"Open In Colab\"/></a>"
      ]
    },
    {
      "cell_type": "markdown",
      "source": [
        "***work3***\n",
        "\n",
        "題名\n",
        "\n",
        "説明\n",
        "\n",
        "画像を用いたプログラミング"
      ],
      "metadata": {
        "id": "4dzSYRjODB-5"
      }
    },
    {
      "cell_type": "code",
      "source": [],
      "metadata": {
        "id": "EOswIZfZDP_y"
      },
      "execution_count": null,
      "outputs": []
    }
  ]
}