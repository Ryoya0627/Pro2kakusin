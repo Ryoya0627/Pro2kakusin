{
  "nbformat": 4,
  "nbformat_minor": 0,
  "metadata": {
    "colab": {
      "provenance": []
    },
    "kernelspec": {
      "name": "python3",
      "display_name": "Python 3"
    },
    "language_info": {
      "name": "python"
    }
  },
  "cells": [
    {
      "cell_type": "markdown",
      "source": [
        "work1\n",
        "\n",
        "題名\n",
        "\n",
        "説明"
      ],
      "metadata": {
        "id": "4dzSYRjODB-5"
      }
    },
    {
      "cell_type": "code",
      "source": [],
      "metadata": {
        "id": "EOswIZfZDP_y"
      },
      "execution_count": null,
      "outputs": []
    }
  ]
}